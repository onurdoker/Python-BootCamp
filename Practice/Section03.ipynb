{
 "cells": [
  {
   "metadata": {},
   "cell_type": "markdown",
   "source": "Q1. Write a program that asks the user for their hometown and prints whether you are from the same hometown.",
   "id": "7cf0039931d07bd2"
  },
  {
   "metadata": {
    "ExecuteTime": {
     "end_time": "2025-10-17T21:41:37.111875Z",
     "start_time": "2025-10-17T21:41:31.854470Z"
    }
   },
   "cell_type": "code",
   "source": [
    "# A1\n",
    "my_hometown = 'Ankara'\n",
    "\n",
    "user_hometown = input('Please enter your hometown: ')\n",
    "\n",
    "if user_hometown.lower() == my_hometown.lower():\n",
    "    print('Yes, we are from the same hometown')\n",
    "else:\n",
    "    print('No, we are not from the same hometown')"
   ],
   "id": "7f6b4365f330c4c6",
   "outputs": [
    {
     "name": "stdout",
     "output_type": "stream",
     "text": [
      "No, we are not from the same hometown\n"
     ]
    }
   ],
   "execution_count": 2
  },
  {
   "metadata": {},
   "cell_type": "markdown",
   "source": "Q2. Write a program that asks the user for two numbers and prints the larger and smaller numbers on order",
   "id": "65a0f8febfac889e"
  },
  {
   "metadata": {
    "ExecuteTime": {
     "end_time": "2025-10-17T21:41:17.459116Z",
     "start_time": "2025-10-17T21:41:09.372348Z"
    }
   },
   "cell_type": "code",
   "source": [
    "# A2.\n",
    "number1 = int(input('Please enter first number: '))\n",
    "number2 = int(input('Please enter second number: '))\n",
    "\n",
    "if number1 > number2:\n",
    "    larger_number = number1\n",
    "    smaller_number = number2\n",
    "else:\n",
    "    larger_number = number2\n",
    "    smaller_number = number1\n",
    "\n",
    "print(f'Largest number is: {larger_number}\\nSmallest number is: {smaller_number}')"
   ],
   "id": "bb9e85392b060127",
   "outputs": [
    {
     "name": "stdout",
     "output_type": "stream",
     "text": [
      "Largest number is: 7\n",
      "Smallest number is: 5\n"
     ]
    }
   ],
   "execution_count": 1
  },
  {
   "metadata": {},
   "cell_type": "markdown",
   "source": "Q3. Write a program that asks the user for three numbers and prints them in order from largest to smallest",
   "id": "da25770a03a32b33"
  },
  {
   "metadata": {
    "ExecuteTime": {
     "end_time": "2025-10-17T21:45:09.876326Z",
     "start_time": "2025-10-17T21:45:00.954840Z"
    }
   },
   "cell_type": "code",
   "source": [
    "# A3.\n",
    "number1 = int(input('Please enter first number: '))\n",
    "number2 = int(input('Please enter second number: '))\n",
    "number3 = int(input('Please enter third number: '))\n",
    "\n",
    "numbers = [number1,\n",
    "           number2,\n",
    "           number3]\n",
    "numbers.sort(reverse=True)\n",
    "\n",
    "print('Numbers sorted from largest to smallest:')\n",
    "for number in numbers:\n",
    "    print(number)"
   ],
   "id": "9dd2d3d04eb0ca89",
   "outputs": [
    {
     "name": "stdout",
     "output_type": "stream",
     "text": [
      "Numbers sorted from largest to smallest:\n",
      "8\n",
      "5\n",
      "3\n"
     ]
    }
   ],
   "execution_count": 3
  },
  {
   "metadata": {},
   "cell_type": "markdown",
   "source": [
    "Q4. Write a program that asks the user for their age and education level to determine their eligibility for a\n",
    "driver's license (the minimum education requirement is primary school graduation)"
   ],
   "id": "a125c739829e2ecc"
  },
  {
   "metadata": {
    "ExecuteTime": {
     "end_time": "2025-10-17T21:55:37.329555Z",
     "start_time": "2025-10-17T21:55:23.696768Z"
    }
   },
   "cell_type": "code",
   "source": [
    "# A4.\n",
    "age = int(input('Please enter your age: '))\n",
    "education = int(input('What is your education level (0-4)? \\n0 - Nothing, \\n1 - Primary, \\n2 - Secondary,\\n3 - High '\n",
    "                      'School\\n4 - '\n",
    "                      'University'))\n",
    "\n",
    "if age >= 18 and education in [1,\n",
    "                               2,\n",
    "                               3,\n",
    "                               4]:\n",
    "    print(\"Your are eligible for driver's license\")\n",
    "else:\n",
    "    print(\"Your are not eligible for driver's license\\n(You must be at least 18 years old and have a least a primary \"\n",
    "          \"school education)\")"
   ],
   "id": "39c708d184c89287",
   "outputs": [
    {
     "name": "stdout",
     "output_type": "stream",
     "text": [
      "Your are not eligible for driver's license\n",
      "(You must be at least 18 years old and have a least a primary school education)\n"
     ]
    }
   ],
   "execution_count": 6
  },
  {
   "metadata": {},
   "cell_type": "markdown",
   "source": [
    "Q5. Consider a tournament and determine the necessary conditions. Write a program with at least two conditions to\n",
    "inform whether the uer can participate in the tournament."
   ],
   "id": "44f65f50fef44840"
  },
  {
   "metadata": {
    "ExecuteTime": {
     "end_time": "2025-10-17T22:00:23.645196Z",
     "start_time": "2025-10-17T22:00:11.233086Z"
    }
   },
   "cell_type": "code",
   "source": [
    "# A5.\n",
    "age = int(input('Please enter your age: '))\n",
    "experience = float(input('How many years of experience do you have in this field? (e.g. 1.5): '))\n",
    "\n",
    "if age > 16 and experience >= 1:\n",
    "    print('You can participate in the tournament')\n",
    "else:\n",
    "    print('You can not participate in the tournament')"
   ],
   "id": "e2fd5bb27609cb4b",
   "outputs": [
    {
     "name": "stdout",
     "output_type": "stream",
     "text": [
      "You can not participate in the tournament\n"
     ]
    }
   ],
   "execution_count": 7
  },
  {
   "metadata": {},
   "cell_type": "markdown",
   "source": [
    "Q6. Write a menu order control system. Check if the customer's menu order is valid (it must include one food and one\n",
    "drink)"
   ],
   "id": "8b6998c4ed11d799"
  },
  {
   "metadata": {
    "ExecuteTime": {
     "end_time": "2025-10-17T22:08:33.784533Z",
     "start_time": "2025-10-17T22:08:22.196544Z"
    }
   },
   "cell_type": "code",
   "source": [
    "# A6.\n",
    "foods = ['hamburger',\n",
    "         'pizza',\n",
    "         'salad']\n",
    "drinks = ['cola',\n",
    "          'water',\n",
    "          'beer']\n",
    "\n",
    "food = input('What is your food order? (Hamburger, Pizza, Salad): ').lower()\n",
    "drink = input('What is your drink order? (Cola, Water, Beer): ').lower()\n",
    "\n",
    "if food in foods and drink in drinks:\n",
    "    print(f'Your order is valid. \\nSelected food: {food.capitalize()} and drink: {drink.capitalize()}')\n",
    "else:\n",
    "    print('Your order is invalid')"
   ],
   "id": "529220661859cb4f",
   "outputs": [
    {
     "name": "stdout",
     "output_type": "stream",
     "text": [
      "Your order is valid. Selected food: Pizza and drink: Cola\n"
     ]
    }
   ],
   "execution_count": 12
  },
  {
   "metadata": {},
   "cell_type": "markdown",
   "source": [
    "Q7. Write a program that tells which neighborhood a marketing employee will visit on each ady of the week, with a\n",
    "difference neighborhood each day (using a elif structure)"
   ],
   "id": "1faa19d36e821e34"
  },
  {
   "metadata": {
    "ExecuteTime": {
     "end_time": "2025-10-17T22:17:38.910104Z",
     "start_time": "2025-10-17T22:17:29.662502Z"
    }
   },
   "cell_type": "code",
   "source": [
    "# A7.\n",
    "day = input('Enter the day of the week (Monday, Tuesday, Wednesday, Thursday, Friday, Saturday, Sunday): ').lower()\n",
    "\n",
    "if day == 'monday':\n",
    "    print(\"Monday's neighborhood: Cankaya\")\n",
    "elif day == 'tuesday':\n",
    "    print(\"Tuesday's neighborhood: Yenimahalle\")\n",
    "elif day == 'wednesday':\n",
    "    print(\"Wednesday's neighborhood: Cubuk\")\n",
    "elif day == 'thursday':\n",
    "    print(\"Thursday's neighborhood: Golbasi\")\n",
    "elif day == 'friday':\n",
    "    print(\"Friday's neighborhood: Kazan\")\n",
    "elif day == 'saturday':\n",
    "    print(\"Saturday's neighborhood: Ahlatlibey\")\n",
    "elif day == 'sunday':\n",
    "    print(\"Sunday's neighborhood: Bala\")\n",
    "else:\n",
    "    print('Invalid day, Please enter a valid day of the week')"
   ],
   "id": "8175da303f57b95e",
   "outputs": [
    {
     "name": "stdout",
     "output_type": "stream",
     "text": [
      "Friday's neighborhood: Kazan\n"
     ]
    }
   ],
   "execution_count": 13
  },
  {
   "metadata": {},
   "cell_type": "markdown",
   "source": "Q8. Write a program that asks the user fro three course averages and prints the course passing status",
   "id": "492b119bac4dec80"
  },
  {
   "metadata": {
    "ExecuteTime": {
     "end_time": "2025-10-18T08:14:27.006847Z",
     "start_time": "2025-10-18T08:14:17.550336Z"
    }
   },
   "cell_type": "code",
   "source": [
    "# A8.\n",
    "course_1_grade = float(input('Please the average for first course: '))\n",
    "course_2_grade = float(input('Please the average for second course: '))\n",
    "course_3_grade = float(input('Please the average for third course: '))\n",
    "\n",
    "overall_grade = (course_1_grade + course_2_grade + course_3_grade) / 3\n",
    "\n",
    "if (overall_grade >= 60 and\n",
    "    course_1_grade >= 60 and\n",
    "    course_2_grade >= 60 and\n",
    "    course_3_grade >= 60):\n",
    "    print(f\"Congratulations! You passed all courses. Overall average: {overall_grade:.2f}\")\n",
    "else:\n",
    "    print(f\"Sorry, your average course is {overall_grade:.2f}, but\")\n",
    "    if course_1_grade < 60:\n",
    "        print(f\"Your first Course's Grade: {course_1_grade:.2f} is less than 60, so You can't pass Course 1\")\n",
    "    if course_2_grade < 60:\n",
    "        print(f\"Your second Course's Grade: {course_2_grade:.2f} is less than 60, so You can't pass Course 2\")\n",
    "    if course_3_grade < 60:\n",
    "        print(f\"Your second Course's Grade: {course_3_grade:.2f} is less than 60, so You can't pass Course 3\")"
   ],
   "id": "49bb8bda127969b",
   "outputs": [
    {
     "name": "stdout",
     "output_type": "stream",
     "text": [
      "Sorry, your average course is 50.00, but\n",
      "Your first Course's Grade: 20.00 is less than 60, so You can't pass Course 1\n",
      "Your second Course's Grade: 30.00 is less than 60, so You can't pass Course 2\n"
     ]
    }
   ],
   "execution_count": 18
  },
  {
   "metadata": {},
   "cell_type": "markdown",
   "source": "Q9. Continue the previous question by adding attendance requirements and indicate the passing/failing status.",
   "id": "53ea85a4b2c15d43"
  },
  {
   "metadata": {},
   "cell_type": "code",
   "outputs": [],
   "execution_count": null,
   "source": [
    "# A9.# A8.\n",
    "course_1_grade = float(input('Please the average for first course: '))\n",
    "course_1_attendance = float(input('Enter the attendance rate for the first course (%): '))\n",
    "course_2_grade = float(input('Please the average for second course: '))\n",
    "course_2_attendance = float(input('Enter the attendance rate for the second course (%): '))\n",
    "course_3_grade = float(input('Please the average for third course: '))\n",
    "course_3_attendance = float(input('Enter the attendance rate for the third course (%): '))\n",
    "\n",
    "overall_grade = (course_1_grade + course_2_grade + course_3_grade) / 3\n",
    "\n",
    "if (overall_grade >= 60 and\n",
    "    course_1_grade >= 60 and\n",
    "    course_2_grade >= 60 and\n",
    "    course_3_grade >= 60 and\n",
    "    course_1_attendance >= 70 and\n",
    "    course_2_attendance >= 70 and\n",
    "    course_3_attendance >= 70):\n",
    "    print(f\"Congratulations! You passed all courses. Overall average: {overall_grade:.2f}\")\n",
    "else:\n",
    "    print(f\"Sorry, your average course is {overall_grade:.2f}, but\")\n",
    "    if course_1_grade < 60:\n",
    "        print(f\"Your first Course's Grade: {course_1_grade:.2f} is less than 60, so You can't pass Course 1\")\n",
    "    if course_1_attendance < 70:\n",
    "        print(f\"First Course's Attendance: {course_1_attendance:.2f} is less than 70, so You can't pass Course 1\")\n",
    "    if course_2_grade < 60:\n",
    "        print(f\"Your second Course's Grade: {course_2_grade:.2f} is less than 60, so You can't pass Course 2\")\n",
    "    if course_2_attendance < 70:\n",
    "        print(f\"Second Course's Attendance: {course_2_attendance:.2f} is less than 70, so You can't pass Course 2\")\n",
    "    if course_3_grade < 60:\n",
    "        print(f\"Your second Course's Grade: {course_3_grade:.2f} is less than 60, so You can't pass Course 3\")\n",
    "    if course_3_attendance < 70:\n",
    "        print(f\"Third Course's Attendance: {course_3_attendance:.2f} is less than 70, so You can't pass Course 3\")"
   ],
   "id": "b62e116c156950e3"
  },
  {
   "metadata": {},
   "cell_type": "markdown",
   "source": [
    "Q10. Write a program that asks for a username and password and displays a welcome message if the correct information\n",
    "is entered."
   ],
   "id": "fdc1bf3ee4bcf650"
  },
  {
   "metadata": {},
   "cell_type": "code",
   "outputs": [],
   "execution_count": null,
   "source": [
    "# A10.\n",
    "correct_username = \"admin\"\n",
    "correct_password = \"administrator\"\n",
    "\n",
    "username = input(\"Please enter your username: \")\n",
    "password = input(\"Please enter your password: \")\n",
    "\n",
    "if username == correct_username and password == correct_password:\n",
    "    print(f\"Welcome {username}!\")\n",
    "else:\n",
    "    print(f\"Sorry, your username and your password didn't match. Please try again.\")"
   ],
   "id": "541bbfad4b308fe8"
  },
  {
   "metadata": {},
   "cell_type": "markdown",
   "source": [
    "Q11. Write a program that checks whether the user entered a valid email address (check for the presence of the '@'\n",
    "character)."
   ],
   "id": "e64dbdb29a8fc251"
  },
  {
   "metadata": {
    "ExecuteTime": {
     "end_time": "2025-10-18T08:37:37.879844Z",
     "start_time": "2025-10-18T08:37:27.025396Z"
    }
   },
   "cell_type": "code",
   "source": [
    "# A11.\n",
    "email = input(\"Please enter your email: \")\n",
    "\n",
    "if ('@' in email and\n",
    "    '.' in email and\n",
    "    3 < email.index('@') < (email.index('.') + 3)):\n",
    "    print(f\"You entered a valid email address.\\nWelcome!\")\n",
    "else:\n",
    "    print(\"You didn't enter a valid email address.\")"
   ],
   "id": "edd61b0385be6481",
   "outputs": [
    {
     "name": "stdout",
     "output_type": "stream",
     "text": [
      "You entered a valid email address.\n",
      " Welcome!\n"
     ]
    }
   ],
   "execution_count": 20
  },
  {
   "metadata": {},
   "cell_type": "markdown",
   "source": [
    "Q12. Write a program that asks the user for their favorite programming language and prints the name of the person who\n",
    " developed that language. 4 languages are sufficient."
   ],
   "id": "a300ec66207481e6"
  },
  {
   "metadata": {
    "ExecuteTime": {
     "end_time": "2025-10-18T08:37:24.749522Z",
     "start_time": "2025-10-18T08:37:20.098543Z"
    }
   },
   "cell_type": "code",
   "source": [
    "# A12.\n",
    "language = input(\"Please enter your favorite language: \").lower()\n",
    "\n",
    "if language == 'python':\n",
    "    print('Python was developed by: Guido van Rossum')\n",
    "elif language == 'java':\n",
    "    print('Java was developed by: James Gosling')\n",
    "elif language == 'c++':\n",
    "    print('C++ was developed by: Bjarne Stroustrup')\n",
    "elif language == 'javascript':\n",
    "    print('JavaScript was developed by: Brendan Eich')\n",
    "else:\n",
    "    print('Sorry, no information available for this language. Please try again.')"
   ],
   "id": "6bad8fc22bd56053",
   "outputs": [
    {
     "name": "stdout",
     "output_type": "stream",
     "text": [
      "Python was developed by: Guido van Rossum\n"
     ]
    }
   ],
   "execution_count": 19
  },
  {
   "metadata": {},
   "cell_type": "markdown",
   "source": "Q13. Write a restaurant application that provides price information based on the menu selected by the user",
   "id": "3a03fa4c94ff4c7"
  },
  {
   "metadata": {
    "ExecuteTime": {
     "end_time": "2025-10-18T08:46:17.235862Z",
     "start_time": "2025-10-18T08:46:05.915431Z"
    }
   },
   "cell_type": "code",
   "source": [
    "# A13.\n",
    "menu = {\n",
    "    'hamburger': 450,\n",
    "    'pizza': 600,\n",
    "    'salad': 350,\n",
    "    'cola': 50,\n",
    "    'water': 30,\n",
    "    'beer': 200\n",
    "    }\n",
    "\n",
    "food = input('PLease select your food (Hamburger, pizza, salad): ').lower()\n",
    "drink = input('PLease select your drink (cola, water, beer): ').lower()\n",
    "\n",
    "if food in menu.keys() and drink in menu.keys():\n",
    "    total_price = menu[food] + menu[drink]\n",
    "    print(f'Your selected menu: {food.capitalize()} ({menu[food]}) + {drink.capitalize()} ({menu[drink]})')\n",
    "    print(f'Your total price: {total_price:.2f}')\n",
    "else:\n",
    "    print('INvalid selection. Please try again.')"
   ],
   "id": "f84a6f75adfde9d2",
   "outputs": [
    {
     "name": "stdout",
     "output_type": "stream",
     "text": [
      "Your selected menu: Pizza (600) + Cola (50)\n",
      "Your total price: 650.00\n"
     ]
    }
   ],
   "execution_count": 21
  },
  {
   "metadata": {},
   "cell_type": "code",
   "outputs": [],
   "execution_count": null,
   "source": "",
   "id": "d4a43f951556c4f0"
  }
 ],
 "metadata": {
  "kernelspec": {
   "display_name": "Python 3",
   "language": "python",
   "name": "python3"
  },
  "language_info": {
   "codemirror_mode": {
    "name": "ipython",
    "version": 2
   },
   "file_extension": ".py",
   "mimetype": "text/x-python",
   "name": "python",
   "nbconvert_exporter": "python",
   "pygments_lexer": "ipython2",
   "version": "2.7.6"
  }
 },
 "nbformat": 4,
 "nbformat_minor": 5
}
