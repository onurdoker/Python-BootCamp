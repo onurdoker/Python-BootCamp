{
 "cells": [
  {
   "metadata": {},
   "cell_type": "markdown",
   "source": "Q1. What are the uses of the Python programming language?What are the uses of the Python programming language?",
   "id": "36c57b609f948638"
  },
  {
   "metadata": {},
   "cell_type": "markdown",
   "source": [
    "A1. Python is used for data analysis, machine learning, web development, automation, software development, database\n",
    "management, scientific computing, education, cybersecurity, and game development.\n"
   ],
   "id": "69e90824f408fdbf"
  },
  {
   "metadata": {},
   "cell_type": "markdown",
   "source": "Q2. What are the advantages and disadvantages of the Python programming language?",
   "id": "2db500d79d1e95d5"
  },
  {
   "metadata": {},
   "cell_type": "markdown",
   "source": [
    "A2. Advantages: Python is easy to learn, has a large community, is open source, has a lot of libraries, and is cross-platform.\n",
    "Disadvantages: Python is slow, has a small standard library, and is not as secure as other languages.\n"
   ],
   "id": "ea6a221dbc7d8260"
  },
  {
   "metadata": {},
   "cell_type": "markdown",
   "source": "Q3. What should be considered when installing Python on a system?",
   "id": "fa49e5509d71fbb9"
  },
  {
   "metadata": {},
   "cell_type": "markdown",
   "source": "A3. When installing Python on a system, it is important to consider the version of Python to be installed, the installation location, and the installation options.\n",
   "id": "35ddc3aad3478c4d"
  },
  {
   "metadata": {},
   "cell_type": "markdown",
   "source": [
    "Q4. What is an IDE (Integrated Development Enviroment)? Which IDEs can be used for writing Python code? What is the\n",
    "name of the IDE that comes with Python?"
   ],
   "id": "179706f55f336042"
  },
  {
   "metadata": {},
   "cell_type": "markdown",
   "source": [
    "A4. What is an IDE? An IDE is an software tool that simplifies coding, debugging, running and testing.\n",
    "IDES for Python: PyCharm, VSCode, Jupyter Notebook, Spyder, Colab, IDLE etc.\n",
    "IDE included with Python: IDLE\n"
   ],
   "id": "34d97efc0232ed67"
  },
  {
   "metadata": {},
   "cell_type": "markdown",
   "source": "Q5. What is an interactive shell? What purposes can it be used for?",
   "id": "bec2626af55e6998"
  },
  {
   "metadata": {},
   "cell_type": "markdown",
   "source": "A5. An interactive shell is a program that allows users to enter and execute commands one at a time. It can be used for testing small pieces of code, debugging, and learning.\n",
   "id": "1ce98d30d0c5ca83"
  },
  {
   "metadata": {},
   "cell_type": "markdown",
   "source": "# Section 01. Main Input Topics",
   "id": "79165124eb08896c"
  },
  {
   "metadata": {},
   "cell_type": "markdown",
   "source": "Q1. Explain the purpose of the print() function.",
   "id": "a170dc5b565f12fb"
  },
  {
   "metadata": {},
   "cell_type": "markdown",
   "source": "A1. The print() function is used to output data to the console.\n",
   "id": "e2023289a93d30f1"
  },
  {
   "metadata": {},
   "cell_type": "markdown",
   "source": "Q2. Write a Python program that introduces yourself (it should produce at least 5 lines of output)",
   "id": "69ef510cb02a7184"
  },
  {
   "metadata": {
    "ExecuteTime": {
     "end_time": "2025-10-16T17:38:21.363250Z",
     "start_time": "2025-10-16T17:38:21.360945Z"
    }
   },
   "cell_type": "code",
   "source": [
    "print(\"Hello, My name is Onur DOKER\")\n",
    "print(\"I'm 48 years old\")\n",
    "print(\"I live in Ankara\")\n",
    "print(\"I am a Chemical Engineer\")\n",
    "print(\"I want to be a Data Analysis\")"
   ],
   "id": "48a7d3e2733bb67a",
   "outputs": [
    {
     "name": "stdout",
     "output_type": "stream",
     "text": [
      "Hello, My name is Onur DOKER\n",
      "I'm 48 years old\n",
      "I live in Ankara\n",
      "I am a Chemical Engineer\n",
      "I want to be a Data Analysis\n"
     ]
    }
   ],
   "execution_count": 3
  },
  {
   "metadata": {},
   "cell_type": "markdown",
   "source": "Q3. What are comment lines? What are they used for? How many types of comment lines are there, and explain with examples?",
   "id": "6b57ef2b25ea23e9"
  },
  {
   "metadata": {},
   "cell_type": "markdown",
   "source": [
    "A3. Comment lines are lines of code that are not executed by the interpreter. They are used to explain the code, make it easier to read, and to disable code that is not needed. There are two types of comment lines: single line and multi line.\n",
    "There is two type of comment lines:\n",
    "1. Single line comment: #\n",
    "2. Multi line comment: \"\"\" \"\"\""
   ],
   "id": "ec1b7c042f6e69e3"
  },
  {
   "metadata": {},
   "cell_type": "markdown",
   "source": [
    "Q4. What are the basic data types used in Python? Write a program with comments that includes examples of these\n",
    "primitive data types."
   ],
   "id": "29d4dfffaae0b7dc"
  },
  {
   "metadata": {
    "ExecuteTime": {
     "end_time": "2025-10-16T17:45:41.861870Z",
     "start_time": "2025-10-16T17:45:41.859197Z"
    }
   },
   "cell_type": "code",
   "source": [
    "# A4.\n",
    "# Integer\n",
    "number = 10\n",
    "print('number: ',\n",
    "      number)\n",
    "\n",
    "# Float\n",
    "number = 10.5\n",
    "print('number: ',\n",
    "      number)\n",
    "\n",
    "# String\n",
    "name = \"Onur\"\n",
    "print('name: ',\n",
    "      name)\n",
    "\n",
    "# Boolean\n",
    "is_active = True\n",
    "print('is_active: ',\n",
    "      is_active)\n"
   ],
   "id": "64bc8673059a131b",
   "outputs": [
    {
     "name": "stdout",
     "output_type": "stream",
     "text": [
      "number:  10\n",
      "number:  10.5\n",
      "name:  Onur\n",
      "is_active:  True\n"
     ]
    }
   ],
   "execution_count": 5
  },
  {
   "metadata": {},
   "cell_type": "markdown",
   "source": "Q5. Explain the purpose of the type() function. Write an example that includes the type() function.",
   "id": "ac2130c721bd5f7a"
  },
  {
   "metadata": {},
   "cell_type": "markdown",
   "source": "A5. The type() function is used to determine the data type of a variable.",
   "id": "fe9dff3c7c4b559c"
  },
  {
   "metadata": {
    "ExecuteTime": {
     "end_time": "2025-10-16T17:48:45.004281Z",
     "start_time": "2025-10-16T17:48:45.001616Z"
    }
   },
   "cell_type": "code",
   "source": [
    "number = 10\n",
    "print('Type of number: ',\n",
    "      type(number))\n",
    "\n",
    "# Float\n",
    "number = 10.5\n",
    "print('Type of number: ',\n",
    "      type(number))\n",
    "\n",
    "# String\n",
    "name = \"Onur\"\n",
    "print('Type of name: ',\n",
    "      type(name))\n",
    "\n",
    "# Boolean\n",
    "is_active = True\n",
    "print('Type of is_active: ',\n",
    "      type(is_active))\n"
   ],
   "id": "59fa0bf5f51103a5",
   "outputs": [
    {
     "name": "stdout",
     "output_type": "stream",
     "text": [
      "Type of number:  <class 'int'>\n",
      "Type of number:  <class 'float'>\n",
      "Type of name:  <class 'str'>\n",
      "Type of is_active:  <class 'bool'>\n"
     ]
    }
   ],
   "execution_count": 7
  },
  {
   "metadata": {},
   "cell_type": "markdown",
   "source": "Q6. What is variable? What is it used for? What should be considered when defining a variable?",
   "id": "539e2587ff2f2ef4"
  },
  {
   "metadata": {},
   "cell_type": "markdown",
   "source": [
    "A6. What is variable? - A named memory location used to store data.\n",
    "Purpose - To store, process and reuse data in a program.\n",
    "Consideration - use meaningful names, descriptive names, avoid reserved keywords, use snake_case, names must start\n",
    "with a letter or underscore, not a number, no space and special characters are not allowed."
   ],
   "id": "f8e8ad0a7851e2ca"
  },
  {
   "metadata": {},
   "cell_type": "markdown",
   "source": "Q7. How is multiple variable assignment done? Write a program with an example.",
   "id": "16aa77806a6cc3be"
  },
  {
   "metadata": {},
   "cell_type": "markdown",
   "source": [
    "A7. Multiple variable assignment can be done in two ways:\n",
    "1. Sequential assignment:\n",
    "2. Parallel assignment:"
   ],
   "id": "167475e1a35ddc8e"
  },
  {
   "metadata": {},
   "cell_type": "code",
   "outputs": [],
   "execution_count": null,
   "source": [
    "# A7.1 Sequential assignment\n",
    "a = 1\n",
    "b = 2\n",
    "c = 3\n",
    "print(a,\n",
    "      b,\n",
    "      c)"
   ],
   "id": "22ae76b0c2e9b95b"
  },
  {
   "metadata": {},
   "cell_type": "code",
   "outputs": [],
   "execution_count": null,
   "source": [
    "# A7.2 Parallel assignment\n",
    "a, b, c = 1, 2, 3\n",
    "print(a,\n",
    "      b,\n",
    "      c)\n"
   ],
   "id": "f8a0ea7148b2528b"
  }
 ],
 "metadata": {
  "kernelspec": {
   "display_name": "Python 3",
   "language": "python",
   "name": "python3"
  },
  "language_info": {
   "codemirror_mode": {
    "name": "ipython",
    "version": 2
   },
   "file_extension": ".py",
   "mimetype": "text/x-python",
   "name": "python",
   "nbconvert_exporter": "python",
   "pygments_lexer": "ipython2",
   "version": "2.7.6"
  }
 },
 "nbformat": 4,
 "nbformat_minor": 5
}
