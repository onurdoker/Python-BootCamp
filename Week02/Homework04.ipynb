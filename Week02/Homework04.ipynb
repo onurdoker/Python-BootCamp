{
 "cells": [
  {
   "metadata": {},
   "cell_type": "markdown",
   "source": "Q1. Write a program that prints the odd numbers between 1 and 30",
   "id": "abbec8851a37df9b"
  },
  {
   "metadata": {
    "ExecuteTime": {
     "end_time": "2025-10-18T19:11:29.333588Z",
     "start_time": "2025-10-18T19:11:29.330337Z"
    }
   },
   "cell_type": "code",
   "source": [
    "#A1.\n",
    "for i in range(1,\n",
    "               31):\n",
    "    if i % 2 != 0:\n",
    "        print(i)"
   ],
   "id": "f13dfe4a8ba16de9",
   "outputs": [
    {
     "name": "stdout",
     "output_type": "stream",
     "text": [
      "1\n",
      "3\n",
      "5\n",
      "7\n",
      "9\n",
      "11\n",
      "13\n",
      "15\n",
      "17\n",
      "19\n",
      "21\n",
      "23\n",
      "25\n",
      "27\n",
      "29\n"
     ]
    }
   ],
   "execution_count": 1
  },
  {
   "metadata": {},
   "cell_type": "markdown",
   "source": "Q2. Write a program that find the sum and average of 10 input numbers",
   "id": "391c0ac8b31eada6"
  },
  {
   "metadata": {
    "ExecuteTime": {
     "end_time": "2025-10-18T19:15:33.017492Z",
     "start_time": "2025-10-18T19:15:19.779793Z"
    }
   },
   "cell_type": "code",
   "source": [
    "# A2.\n",
    "numbers = []\n",
    "for i in range(10):\n",
    "    num = float(input(f'Please enter number {i + 1}: '))\n",
    "    numbers.append(num)\n",
    "\n",
    "total = sum(numbers)\n",
    "average = total / len(numbers)\n",
    "\n",
    "print(f'The entered number is: {numbers}')\n",
    "print(f'The sum of the numbers is: {total}')\n",
    "print(f'The average of the numbers is: {average}')"
   ],
   "id": "2b07b952b2f8ce75",
   "outputs": [
    {
     "name": "stdout",
     "output_type": "stream",
     "text": [
      "The entered number is: [1.0, 2.0, 3.0, 4.0, 5.0, 6.0, 7.0, 8.0, 9.0, 10.0]\n",
      "The sum of the numbers is: 55.0\n",
      "The average of the numbers is: 5.5\n"
     ]
    }
   ],
   "execution_count": 3
  },
  {
   "metadata": {},
   "cell_type": "markdown",
   "source": "Q3. Print the numbers from 50 to 20 (inclusive) by decreasing them by 3 each time.",
   "id": "f96ef1031d435dd2"
  },
  {
   "metadata": {
    "ExecuteTime": {
     "end_time": "2025-10-18T19:18:09.483459Z",
     "start_time": "2025-10-18T19:18:09.481045Z"
    }
   },
   "cell_type": "code",
   "source": [
    "# A3.\n",
    "for i in range(50,\n",
    "               19,\n",
    "               -3):\n",
    "    print(i)"
   ],
   "id": "4ab5796a557bb825",
   "outputs": [
    {
     "name": "stdout",
     "output_type": "stream",
     "text": [
      "50\n",
      "47\n",
      "44\n",
      "41\n",
      "38\n",
      "35\n",
      "32\n",
      "29\n",
      "26\n",
      "23\n",
      "20\n"
     ]
    }
   ],
   "execution_count": 4
  },
  {
   "metadata": {},
   "cell_type": "markdown",
   "source": "Q4. Write a program that calculates and prints the average of odd and even numbers from 20 input numbers.",
   "id": "80e6fde5a03be1f4"
  },
  {
   "metadata": {
    "ExecuteTime": {
     "end_time": "2025-10-18T19:21:55.970585Z",
     "start_time": "2025-10-18T19:21:32.772739Z"
    }
   },
   "cell_type": "code",
   "source": [
    "# A4.\n",
    "numbers = []\n",
    "odd_numbers = []\n",
    "even_numbers = []\n",
    "\n",
    "for i in range(20):\n",
    "    number = float(input(f'Please enter number {i + 1}: '))\n",
    "    numbers.append(number)\n",
    "    if number % 2 == 0:\n",
    "        odd_numbers.append(number)\n",
    "    else:\n",
    "        even_numbers.append(number)\n",
    "\n",
    "odd_numbers_average = sum(odd_numbers) / len(odd_numbers) if odd_numbers else 0\n",
    "even_numbers_average = sum(even_numbers) / len(even_numbers) if even_numbers else 0\n",
    "\n",
    "print(f'Average of odd numbers is: {odd_numbers_average}')\n",
    "print(f'Average of even numbers is: {even_numbers_average}')\n",
    "\n"
   ],
   "id": "e22c3f932ec39be1",
   "outputs": [
    {
     "name": "stdout",
     "output_type": "stream",
     "text": [
      "Average of odd numbers is: 11.0\n",
      "Average of even numbers is: 10.0\n"
     ]
    }
   ],
   "execution_count": 5
  },
  {
   "metadata": {},
   "cell_type": "markdown",
   "source": [
    "Q5. Create a multiplication table from 1 to 10 using nested for loops in Pyhton (Also try the version that prints the\n",
    " output side by side)"
   ],
   "id": "414831b467168141"
  },
  {
   "metadata": {
    "ExecuteTime": {
     "end_time": "2025-10-18T19:32:37.617264Z",
     "start_time": "2025-10-18T19:32:37.614049Z"
    }
   },
   "cell_type": "code",
   "source": [
    "# A5.\n",
    "for i in range(1,\n",
    "               11):\n",
    "    for j in range(1,\n",
    "                   11):\n",
    "        print(f'{i * j}',\n",
    "              end=' ')\n",
    "    print()"
   ],
   "id": "4b664d5c7df1a2e3",
   "outputs": [
    {
     "name": "stdout",
     "output_type": "stream",
     "text": [
      "1 2 3 4 5 6 7 8 9 10 \n",
      "2 4 6 8 10 12 14 16 18 20 \n",
      "3 6 9 12 15 18 21 24 27 30 \n",
      "4 8 12 16 20 24 28 32 36 40 \n",
      "5 10 15 20 25 30 35 40 45 50 \n",
      "6 12 18 24 30 36 42 48 54 60 \n",
      "7 14 21 28 35 42 49 56 63 70 \n",
      "8 16 24 32 40 48 56 64 72 80 \n",
      "9 18 27 36 45 54 63 72 81 90 \n",
      "10 20 30 40 50 60 70 80 90 100 \n"
     ]
    }
   ],
   "execution_count": 10
  },
  {
   "metadata": {},
   "cell_type": "markdown",
   "source": [
    "Q6. Create a multiplication table from 1 to 10 using nested while loops in Python (Also try the version that prints\n",
    "the output side by side)"
   ],
   "id": "6f6bdfd8e3b2d2f1"
  },
  {
   "metadata": {
    "ExecuteTime": {
     "end_time": "2025-10-18T19:35:38.816028Z",
     "start_time": "2025-10-18T19:35:38.812913Z"
    }
   },
   "cell_type": "code",
   "source": [
    "# A6.\n",
    "i = 1\n",
    "while i < 11:\n",
    "    j = 1\n",
    "    while j < 11:\n",
    "        print(f'{i * j}',\n",
    "              end=' ')\n",
    "        j += 1\n",
    "    print()\n",
    "    i = i + 1"
   ],
   "id": "bdb50aad7261184f",
   "outputs": [
    {
     "name": "stdout",
     "output_type": "stream",
     "text": [
      "1 2 3 4 5 6 7 8 9 10 \n",
      "2 4 6 8 10 12 14 16 18 20 \n",
      "3 6 9 12 15 18 21 24 27 30 \n",
      "4 8 12 16 20 24 28 32 36 40 \n",
      "5 10 15 20 25 30 35 40 45 50 \n",
      "6 12 18 24 30 36 42 48 54 60 \n",
      "7 14 21 28 35 42 49 56 63 70 \n",
      "8 16 24 32 40 48 56 64 72 80 \n",
      "9 18 27 36 45 54 63 72 81 90 \n",
      "10 20 30 40 50 60 70 80 90 100 \n"
     ]
    }
   ],
   "execution_count": 11
  },
  {
   "metadata": {},
   "cell_type": "markdown",
   "source": [
    "Q7. Create a program that asks the user to enter a password twice. If the passwords entered are the same, allow the\n",
    "login; if the are different display a warning."
   ],
   "id": "6df1d124126b9a7d"
  },
  {
   "metadata": {},
   "cell_type": "code",
   "outputs": [],
   "execution_count": null,
   "source": [
    "# A7.\n",
    "password_1 = input('Please enter a password: ')\n",
    "password_2 = input('Please enter a password again: ')\n",
    "\n",
    "if password_1 == password_2:\n",
    "    print('Login Successful')\n",
    "else:\n",
    "    print('Warning! The entered passwords do not match!.')"
   ],
   "id": "8becccf50bf30ea1"
  },
  {
   "metadata": {},
   "cell_type": "markdown",
   "source": "Q8. Write a Python program that lists numbers up to 100 that are divisible by both 3 and 5.",
   "id": "67ca6f1236b59b"
  },
  {
   "metadata": {
    "ExecuteTime": {
     "end_time": "2025-10-18T19:40:01.941433Z",
     "start_time": "2025-10-18T19:40:01.939343Z"
    }
   },
   "cell_type": "code",
   "source": [
    "# A8.\n",
    "for i in range(1,\n",
    "               101):\n",
    "    if i % 3 == 0 and i % 5 == 0:\n",
    "        print(i)"
   ],
   "id": "6d4fdabf3b37e69",
   "outputs": [
    {
     "name": "stdout",
     "output_type": "stream",
     "text": [
      "15\n",
      "30\n",
      "45\n",
      "60\n",
      "75\n",
      "90\n"
     ]
    }
   ],
   "execution_count": 12
  },
  {
   "metadata": {},
   "cell_type": "markdown",
   "source": "Q9. Create a 4x4 square using the \"\" character.",
   "id": "ca076d2a8a2ed29b"
  },
  {
   "metadata": {
    "ExecuteTime": {
     "end_time": "2025-10-18T19:42:07.143544Z",
     "start_time": "2025-10-18T19:42:07.141121Z"
    }
   },
   "cell_type": "code",
   "source": [
    "# A9.\n",
    "for i in range(4):\n",
    "    print('\"' * 4)"
   ],
   "id": "44f4c572e0312259",
   "outputs": [
    {
     "name": "stdout",
     "output_type": "stream",
     "text": [
      "\"\"\"\"\n",
      "\"\"\"\"\n",
      "\"\"\"\"\n",
      "\"\"\"\"\n"
     ]
    }
   ],
   "execution_count": 14
  },
  {
   "metadata": {},
   "cell_type": "markdown",
   "source": "Q10. Create a rectangle using the \"*\" character with dimensions specified by the user/",
   "id": "3400622eac1bab4b"
  },
  {
   "metadata": {
    "ExecuteTime": {
     "end_time": "2025-10-18T19:44:45.272435Z",
     "start_time": "2025-10-18T19:44:37.293270Z"
    }
   },
   "cell_type": "code",
   "source": [
    "# A10.\n",
    "height = int(input('Please enter your height of the rectangle: '))\n",
    "width = int(input('Please enter your width of the rectangle: '))\n",
    "\n",
    "for i in range(height):\n",
    "    print(\"*\" * width)"
   ],
   "id": "2aa0fce7bb0ef9a9",
   "outputs": [
    {
     "name": "stdout",
     "output_type": "stream",
     "text": [
      "**********\n",
      "**********\n",
      "**********\n",
      "**********\n",
      "**********\n"
     ]
    }
   ],
   "execution_count": 15
  },
  {
   "metadata": {},
   "cell_type": "markdown",
   "source": "Q11. Using nested loops, create a pyramids with a height specified by the user.",
   "id": "b4a259e7abdafa02"
  },
  {
   "metadata": {
    "ExecuteTime": {
     "end_time": "2025-10-18T19:50:12.760942Z",
     "start_time": "2025-10-18T19:50:08.159Z"
    }
   },
   "cell_type": "code",
   "source": [
    "# A11.\n",
    "height = int(input('Please enter your height of the pyramid: '))\n",
    "\n",
    "for i in range(height):\n",
    "    for j in range(height - i - 1):\n",
    "        print(\" \",\n",
    "              end='')\n",
    "    for k in range(2 * i + 1):\n",
    "        print('*',\n",
    "              end='')\n",
    "    print()"
   ],
   "id": "dff314b287690fd4",
   "outputs": [
    {
     "name": "stdout",
     "output_type": "stream",
     "text": [
      "         *\n",
      "        ***\n",
      "       *****\n",
      "      *******\n",
      "     *********\n",
      "    ***********\n",
      "   *************\n",
      "  ***************\n",
      " *****************\n",
      "*******************\n"
     ]
    }
   ],
   "execution_count": 16
  },
  {
   "metadata": {},
   "cell_type": "markdown",
   "source": [
    "Q12. To demonstrate the use of the break statement, print numbers from 1 to 100 on the screen, checking each number,\n",
    "and exit the loop if the number is 35."
   ],
   "id": "f52bb400351b2df1"
  },
  {
   "metadata": {
    "ExecuteTime": {
     "end_time": "2025-10-18T19:53:53.663653Z",
     "start_time": "2025-10-18T19:53:53.660919Z"
    }
   },
   "cell_type": "code",
   "source": [
    "# A12.\n",
    "for i in range(1,\n",
    "               101):\n",
    "    print(i)\n",
    "    if i == 35:\n",
    "        break"
   ],
   "id": "7e40d92533c72345",
   "outputs": [
    {
     "name": "stdout",
     "output_type": "stream",
     "text": [
      "1\n",
      "2\n",
      "3\n",
      "4\n",
      "5\n",
      "6\n",
      "7\n",
      "8\n",
      "9\n",
      "10\n",
      "11\n",
      "12\n",
      "13\n",
      "14\n",
      "15\n",
      "16\n",
      "17\n",
      "18\n",
      "19\n",
      "20\n",
      "21\n",
      "22\n",
      "23\n",
      "24\n",
      "25\n",
      "26\n",
      "27\n",
      "28\n",
      "29\n",
      "30\n",
      "31\n",
      "32\n",
      "33\n",
      "34\n",
      "35\n"
     ]
    }
   ],
   "execution_count": 17
  },
  {
   "metadata": {},
   "cell_type": "markdown",
   "source": [
    "Q13. Ask the user to enter a number and, using the break statement, print the numbers from 1 up to the number entered\n",
    " by the user. Create an infinite loop using while."
   ],
   "id": "41223f773361b9fe"
  },
  {
   "metadata": {
    "ExecuteTime": {
     "end_time": "2025-10-18T19:57:28.291391Z",
     "start_time": "2025-10-18T19:57:23.272023Z"
    }
   },
   "cell_type": "code",
   "source": [
    "#A13.\n",
    "limit = int(input('Please enter your limit: '))\n",
    "\n",
    "i = 1\n",
    "while True:\n",
    "    print(i)\n",
    "    if i == limit:\n",
    "        break\n",
    "    i += 1"
   ],
   "id": "39c20b131a97ae5c",
   "outputs": [
    {
     "name": "stdout",
     "output_type": "stream",
     "text": [
      "1\n",
      "2\n",
      "3\n",
      "4\n"
     ]
    }
   ],
   "execution_count": 20
  },
  {
   "metadata": {},
   "cell_type": "markdown",
   "source": [
    "Q14. Lets create a number guessing game. Define a variable called your_number  adn assign it a number of our choice\n",
    "between 1 and 100. Prompt the user to enter a number. If the user enters the wrong number, print \"Wrong, try again\"\n",
    "on the screen. If the user enter the correct number,  print a congratulatory message like 'Congratulations, you won\""
   ],
   "id": "cc4ac1cf786f5959"
  },
  {
   "metadata": {
    "ExecuteTime": {
     "end_time": "2025-10-18T20:03:15.958758Z",
     "start_time": "2025-10-18T20:03:05.621598Z"
    }
   },
   "cell_type": "code",
   "source": [
    "# A14.\n",
    "your_number = 15\n",
    "\n",
    "while True:\n",
    "    guess = int(input('Please enter your guess (between 1 and 100): '))\n",
    "\n",
    "    if guess == your_number:\n",
    "        print(\"Congratulations, you won!\")\n",
    "        break\n",
    "    else:\n",
    "        print(f\"Your guess is: {guess}\")\n",
    "        print(\"Wrong, try again!\")"
   ],
   "id": "9a4012d66455d103",
   "outputs": [
    {
     "name": "stdout",
     "output_type": "stream",
     "text": [
      "Wrong, try again!\n",
      "Wrong, try again!\n",
      "Congratulations, you won!\n"
     ]
    }
   ],
   "execution_count": 21
  },
  {
   "metadata": {},
   "cell_type": "markdown",
   "source": "Q15. Modify the previous example to include guidance. (Prompt the user to enter a larger or smaller number)",
   "id": "196d9eacfd91f5f"
  },
  {
   "metadata": {
    "ExecuteTime": {
     "end_time": "2025-10-18T20:23:15.957930Z",
     "start_time": "2025-10-18T20:22:56.564835Z"
    }
   },
   "cell_type": "code",
   "source": [
    "# A15.\n",
    "your_number = 15\n",
    "\n",
    "while True:\n",
    "    guess = int(input('Please enter your guess (between 1 and 100): '))\n",
    "\n",
    "    if guess == your_number:\n",
    "        print(f\"Your guess is: {guess}\")\n",
    "        print(\"Congratulations, you won!\")\n",
    "        break\n",
    "    elif guess < your_number:\n",
    "        print(f\"Your guess is: {guess}\")\n",
    "        print(\"Wrong, try a larger number!\")\n",
    "    else:\n",
    "        print(f\"Your guess is: {guess}\")\n",
    "        print(\"Wrong, try a smaller number!\")"
   ],
   "id": "b7bd3c9f81ab1b41",
   "outputs": [
    {
     "name": "stdout",
     "output_type": "stream",
     "text": [
      "Your guess is: 45\n",
      "Wrong, try a smaller number!\n",
      "Your guess is: 1\n",
      "Wrong, try a larger number!\n",
      "Your guess is: 15\n",
      "Congratulations, you won!\n"
     ]
    }
   ],
   "execution_count": 35
  },
  {
   "metadata": {},
   "cell_type": "markdown",
   "source": "Q16. Write a program that lists numbers up to 100 that are not divisible by both 3 and 5.",
   "id": "ad0d64afcd7df04d"
  },
  {
   "metadata": {
    "ExecuteTime": {
     "end_time": "2025-10-18T20:09:50.143522Z",
     "start_time": "2025-10-18T20:09:50.140535Z"
    }
   },
   "cell_type": "code",
   "source": [
    "# A16.\n",
    "for i in range(1,\n",
    "               101):\n",
    "    if not (i % 3 == 0 and i % 5 == 0):\n",
    "        print(i)"
   ],
   "id": "5c9a4a6299d02efe",
   "outputs": [
    {
     "name": "stdout",
     "output_type": "stream",
     "text": [
      "1\n",
      "2\n",
      "3\n",
      "4\n",
      "5\n",
      "6\n",
      "7\n",
      "8\n",
      "9\n",
      "10\n",
      "11\n",
      "12\n",
      "13\n",
      "14\n",
      "16\n",
      "17\n",
      "18\n",
      "19\n",
      "20\n",
      "21\n",
      "22\n",
      "23\n",
      "24\n",
      "25\n",
      "26\n",
      "27\n",
      "28\n",
      "29\n",
      "31\n",
      "32\n",
      "33\n",
      "34\n",
      "35\n",
      "36\n",
      "37\n",
      "38\n",
      "39\n",
      "40\n",
      "41\n",
      "42\n",
      "43\n",
      "44\n",
      "46\n",
      "47\n",
      "48\n",
      "49\n",
      "50\n",
      "51\n",
      "52\n",
      "53\n",
      "54\n",
      "55\n",
      "56\n",
      "57\n",
      "58\n",
      "59\n",
      "61\n",
      "62\n",
      "63\n",
      "64\n",
      "65\n",
      "66\n",
      "67\n",
      "68\n",
      "69\n",
      "70\n",
      "71\n",
      "72\n",
      "73\n",
      "74\n",
      "76\n",
      "77\n",
      "78\n",
      "79\n",
      "80\n",
      "81\n",
      "82\n",
      "83\n",
      "84\n",
      "85\n",
      "86\n",
      "87\n",
      "88\n",
      "89\n",
      "91\n",
      "92\n",
      "93\n",
      "94\n",
      "95\n",
      "96\n",
      "97\n",
      "98\n",
      "99\n",
      "100\n"
     ]
    }
   ],
   "execution_count": 26
  },
  {
   "metadata": {},
   "cell_type": "markdown",
   "source": [
    "Q17. Ask the user to enter 10 numbers and calculate the sum of the factorial values of the entered numbers. If a\n",
    "negative number is entered, stop requesting numbers and display the total count of numbers entered and the sum of\n",
    "their fractorials. Skip calculations for numbers that are multiples of 7 and continue with the next number."
   ],
   "id": "997bdbf3a4fed89c"
  },
  {
   "metadata": {
    "ExecuteTime": {
     "end_time": "2025-10-18T20:24:26.811663Z",
     "start_time": "2025-10-18T20:23:46.926765Z"
    }
   },
   "cell_type": "code",
   "source": [
    "# A17.\n",
    "def factorial(n):\n",
    "    if n == 0 or n == 1:\n",
    "        return 1\n",
    "    return n * factorial(n - 1)\n",
    "\n",
    "total_factorial = 0\n",
    "count = 0\n",
    "\n",
    "for i in range(10):\n",
    "    number = int(input(f'Enter number {i + 1}: '))\n",
    "\n",
    "    if number < 0:\n",
    "        break\n",
    "\n",
    "    if number % 7 == 0:\n",
    "        continue\n",
    "\n",
    "    total_factorial += factorial(number)\n",
    "    count += 1\n",
    "\n",
    "print(f'Total numbers entered: {count}')\n",
    "print(f\"Sum of factorial is: {total_factorial}\")\n"
   ],
   "id": "9b4617ff7fe31057",
   "outputs": [
    {
     "name": "stdout",
     "output_type": "stream",
     "text": [
      "Total numbers entered: 8\n",
      "Sum of factorial is: 3993390\n"
     ]
    }
   ],
   "execution_count": 36
  },
  {
   "metadata": {},
   "cell_type": "markdown",
   "source": [
    "Q18. Write a program that calculates and prints the Greatest Common Divisor (GCD) and Least Common Multiple (LCM) of\n",
    "two numbers entered by the user."
   ],
   "id": "94e6f40940dc09d0"
  },
  {
   "metadata": {
    "ExecuteTime": {
     "end_time": "2025-10-18T20:28:40.077541Z",
     "start_time": "2025-10-18T20:28:32.963464Z"
    }
   },
   "cell_type": "code",
   "source": [
    "# A18.\n",
    "def gcd(a,\n",
    "        b):\n",
    "    while b:\n",
    "        a, b = b, a % b\n",
    "    return a\n",
    "\n",
    "def lcm(a,\n",
    "        b):\n",
    "    return abs(a * b) // gcd(a,\n",
    "                             b)\n",
    "\n",
    "num1 = int(input(\"Please enter the first number: \"))\n",
    "num2 = int(input(\"Please enter the second number: \"))\n",
    "\n",
    "gcd_result = gcd(num1,\n",
    "                 num2)\n",
    "lcm_result = lcm(num1,\n",
    "                 num2)\n",
    "\n",
    "print(f\"Greatest Common Divisor (GCD): {gcd_result}\")\n",
    "print(f\"Least Common Multiple (LCM): {lcm_result}\")"
   ],
   "id": "75259253c90c8e5",
   "outputs": [
    {
     "name": "stdout",
     "output_type": "stream",
     "text": [
      "Greatest Common Divisor (GCD): 5\n",
      "Least Common Multiple (LCM): 105\n"
     ]
    }
   ],
   "execution_count": 37
  },
  {
   "metadata": {},
   "cell_type": "markdown",
   "source": "Q19. Write a program that finds the number of digits in a number entered by the user.",
   "id": "5b63dc3f379d5cdc"
  },
  {
   "metadata": {
    "ExecuteTime": {
     "end_time": "2025-10-18T20:32:12.539331Z",
     "start_time": "2025-10-18T20:32:08.070324Z"
    }
   },
   "cell_type": "code",
   "source": [
    "# A19.\n",
    "number = int(input(\"Please enter the number: \"))\n",
    "count = len(str(abs(number)))\n",
    "print(f'The number of digits is: {count}')"
   ],
   "id": "17aa21967acf598c",
   "outputs": [
    {
     "name": "stdout",
     "output_type": "stream",
     "text": [
      "The number of digits is: 3\n"
     ]
    }
   ],
   "execution_count": 38
  },
  {
   "metadata": {},
   "cell_type": "markdown",
   "source": [
    "Q20. Write a program that checks whether a number entered by the user is an Armstrong number.\n",
    "A number is called an Armstrong number if the sum of its digits raised to the power of the number of digits\n",
    "equals the number itself."
   ],
   "id": "6b8d59346cb6525d"
  },
  {
   "metadata": {
    "ExecuteTime": {
     "end_time": "2025-10-18T20:48:15.250358Z",
     "start_time": "2025-10-18T20:48:10.793330Z"
    }
   },
   "cell_type": "code",
   "source": [
    "# A20.\n",
    "number = int(input(\"Please enter the number: \"))\n",
    "digits = len(str(number))\n",
    "sum_power = 0\n",
    "\n",
    "for digit in str(number):\n",
    "    sum_power += int(digit) ** digits\n",
    "\n",
    "if sum_power == number:\n",
    "    print(f\"{number} is an Armstrong number.\")\n",
    "else:\n",
    "    print(f\"{number} is not an Armstrong number.\")"
   ],
   "id": "8c74ca09c4134fbb",
   "outputs": [
    {
     "name": "stdout",
     "output_type": "stream",
     "text": [
      "407 is an Armstrong number.\n"
     ]
    }
   ],
   "execution_count": 46
  },
  {
   "metadata": {},
   "cell_type": "markdown",
   "source": "Q21. Print all Armstrong numbers up to 1000.",
   "id": "f9948c9dffa908d0"
  },
  {
   "metadata": {
    "ExecuteTime": {
     "end_time": "2025-10-18T20:51:18.367189Z",
     "start_time": "2025-10-18T20:51:18.364357Z"
    }
   },
   "cell_type": "code",
   "source": [
    "# A21.\n",
    "def is_armstrong(n):\n",
    "    digits = len(str(n))\n",
    "    sum_power = 0\n",
    "\n",
    "    for digit in str(n):\n",
    "        sum_power += int(digit) ** digits\n",
    "    return sum_power == n\n",
    "\n",
    "for i in range(1,\n",
    "               1001):\n",
    "    if is_armstrong(i):\n",
    "        print(i)"
   ],
   "id": "c6523c35a153c42c",
   "outputs": [
    {
     "name": "stdout",
     "output_type": "stream",
     "text": [
      "1\n",
      "2\n",
      "3\n",
      "4\n",
      "5\n",
      "6\n",
      "7\n",
      "8\n",
      "9\n",
      "153\n",
      "370\n",
      "371\n",
      "407\n"
     ]
    }
   ],
   "execution_count": 47
  },
  {
   "metadata": {},
   "cell_type": "code",
   "outputs": [],
   "execution_count": null,
   "source": "",
   "id": "a6d4769dd6e89c99"
  }
 ],
 "metadata": {
  "kernelspec": {
   "display_name": "Python 3",
   "language": "python",
   "name": "python3"
  },
  "language_info": {
   "codemirror_mode": {
    "name": "ipython",
    "version": 2
   },
   "file_extension": ".py",
   "mimetype": "text/x-python",
   "name": "python",
   "nbconvert_exporter": "python",
   "pygments_lexer": "ipython2",
   "version": "2.7.6"
  }
 },
 "nbformat": 4,
 "nbformat_minor": 5
}
