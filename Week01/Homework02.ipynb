{
 "cells": [
  {
   "metadata": {},
   "cell_type": "code",
   "outputs": [],
   "execution_count": null,
   "source": "",
   "id": "ef6829d9dee69588"
  },
  {
   "metadata": {},
   "cell_type": "markdown",
   "source": "Q1. What is the function used to take input from the user?",
   "id": "6fe007d09480a101"
  },
  {
   "metadata": {},
   "cell_type": "markdown",
   "source": "A1. The function used to take input from the user is input().",
   "id": "3766c7bb9cc40bce"
  },
  {
   "metadata": {},
   "cell_type": "markdown",
   "source": "Q2. Write a simple introduction program that can take input from the user",
   "id": "b39b2fb6712443e3"
  },
  {
   "metadata": {},
   "cell_type": "code",
   "outputs": [],
   "execution_count": null,
   "source": [
    "# A2.\n",
    "name = input(\"Please enter your name: \")\n",
    "age = input(\"Please enter your age: \")\n",
    "print(\"Hello, my name is\",\n",
    "      name,\n",
    "      \"and I am\",\n",
    "      age,\n",
    "      \"years old.\")\n"
   ],
   "id": "53ce8450503f76b8"
  },
  {
   "metadata": {},
   "cell_type": "markdown",
   "source": "Q3. What are the functions used for converting between primitive data types?",
   "id": "114ed423cdae7046"
  },
  {
   "metadata": {},
   "cell_type": "markdown",
   "source": "A3. The functions used for converting between primitive data types are int(), bool() float(), and str().",
   "id": "69f4d17d20eaf212"
  },
  {
   "metadata": {},
   "cell_type": "markdown",
   "source": "Q4. Write a program that includes type conversions.",
   "id": "8518b20c16959435"
  },
  {
   "metadata": {
    "ExecuteTime": {
     "end_time": "2025-10-16T19:12:31.400411Z",
     "start_time": "2025-10-16T19:12:27.046694Z"
    }
   },
   "cell_type": "code",
   "source": [
    "# A4.\n",
    "number_str = input(\"Enter a number (like 15)\")\n",
    "print('The number you entered is',\n",
    "      number_str,\n",
    "      '\\nType of the this number',\n",
    "      type(number_str))\n",
    "number_int = int(number_str)\n",
    "print(\"Type of the number after the conversion\",\n",
    "      type(number_int))"
   ],
   "id": "db230c02cbb70305",
   "outputs": [
    {
     "name": "stdout",
     "output_type": "stream",
     "text": [
      "The number you entered is 12 \n",
      " Type of the this number <class 'str'>\n",
      "Type of the number after the conversion <class 'int'>\n"
     ]
    }
   ],
   "execution_count": 5
  },
  {
   "metadata": {},
   "cell_type": "markdown",
   "source": [
    "Q5. Write a program that asks user to introduce themselves, performs various type conversions on the input data, and\n",
    "generates multiple outputs for the user."
   ],
   "id": "27968e8ade16e89b"
  },
  {
   "metadata": {
    "ExecuteTime": {
     "end_time": "2025-10-16T19:17:56.051326Z",
     "start_time": "2025-10-16T19:17:39.815314Z"
    }
   },
   "cell_type": "code",
   "source": [
    "# A5.\n",
    "name = input(\"Please enter your name: \")\n",
    "age = input(\"Please enter your age: \")\n",
    "age_int = int(age)\n",
    "number = input(\"What is your favorite number\")\n",
    "number_float = float(number)\n",
    "print(f\"Hello, my name is {name}. I am {age_int} years old and my favorite number is {number_float}\")"
   ],
   "id": "8338ab9866d011d8",
   "outputs": [
    {
     "name": "stdout",
     "output_type": "stream",
     "text": [
      "Hello, my name is Onur. I am 48 years old and my favorite number is 53.0\n"
     ]
    }
   ],
   "execution_count": 6
  },
  {
   "metadata": {},
   "cell_type": "markdown",
   "source": "Q6. Explain the concept of an operator.",
   "id": "f4ad0d7cf63cd16e"
  },
  {
   "metadata": {},
   "cell_type": "markdown",
   "source": [
    "A6. An operator is a symbol in programming languages that performs operations on variables or values, such as\n",
    "mathematical, logical or comparison operations."
   ],
   "id": "73097496b2b1da35"
  },
  {
   "metadata": {},
   "cell_type": "markdown",
   "source": "Q7. List the types of operators in Python, specifying the operators used",
   "id": "7428d41924792d28"
  },
  {
   "metadata": {},
   "cell_type": "markdown",
   "source": [
    "A7. The types of operators in Python are:\n",
    "- Arithmetical operators: +, -, *, /, %, **, //\n",
    "- Comparison operators: ==, !=, >, <, >=, <=\n",
    "- Logical operators: and, or, not\n",
    "- Assignment operators: =, +=, -=, *=, /=, %=, **=, //=\n",
    "- Membership operators: in, not in\n",
    "- Identity operators: is, is not"
   ],
   "id": "8392461b5b53ad0e"
  },
  {
   "metadata": {
    "ExecuteTime": {
     "end_time": "2025-10-16T19:27:01.309663Z",
     "start_time": "2025-10-16T19:27:01.307185Z"
    }
   },
   "cell_type": "code",
   "source": [
    "# Q8. Perform the following operations and print the results in order.\n",
    "print(2 ** 5)  # 32\n",
    "print(5 // 2)  # 2\n",
    "print(4 + 3)  # 7\n",
    "print(11 % 3)  # 2\n",
    "print(5 / 2)  # 2.5\n",
    "print(2 * 5)  # 10\n",
    "print(3 - 5)  # -2\n",
    "print((4 - 1) ** 2)  # 9\n",
    "print((7 // 3) / 2)  # 1.0"
   ],
   "id": "683faeb12c278a17",
   "outputs": [
    {
     "name": "stdout",
     "output_type": "stream",
     "text": [
      "32\n",
      "2\n",
      "7\n",
      "2\n",
      "2.5\n",
      "10\n",
      "-2\n",
      "9\n",
      "1.0\n"
     ]
    }
   ],
   "execution_count": 8
  },
  {
   "metadata": {
    "ExecuteTime": {
     "end_time": "2025-10-16T19:30:00.939093Z",
     "start_time": "2025-10-16T19:30:00.936190Z"
    }
   },
   "cell_type": "code",
   "source": [
    "# Q9. Perform the following operations and print the results in order.\n",
    "a = 3\n",
    "a += 2\n",
    "print(a)  # 5\n",
    "\n",
    "a = 6\n",
    "a *= 3\n",
    "print(a)  # 18\n",
    "\n",
    "a = 5\n",
    "a **= 3\n",
    "print(a)  # 125\n",
    "\n",
    "a = 11\n",
    "a %= 3\n",
    "print(a)  # 2"
   ],
   "id": "fdcfaed8a77f6ab2",
   "outputs": [
    {
     "name": "stdout",
     "output_type": "stream",
     "text": [
      "5\n",
      "18\n",
      "125\n",
      "2\n"
     ]
    }
   ],
   "execution_count": 10
  },
  {
   "metadata": {
    "ExecuteTime": {
     "end_time": "2025-10-16T19:32:46.364786Z",
     "start_time": "2025-10-16T19:32:46.361475Z"
    }
   },
   "cell_type": "code",
   "source": [
    "# Q10. Indicate whether the outputs of the following code snippets will be True or False when executed.\n",
    "a = 3\n",
    "b = 4\n",
    "print(a == b)  # False\n",
    "\n",
    "a = 6\n",
    "b = 6\n",
    "print(a == b)  # True\n",
    "\n",
    "a = 2\n",
    "b = 1\n",
    "print(a != b)  # True\n",
    "\n",
    "a = 6\n",
    "b = 11\n",
    "print(a < b)  # True\n",
    "\n",
    "a = 9\n",
    "b = 7\n",
    "print(a > b)  # True\n",
    "\n",
    "a = 6\n",
    "b = 6\n",
    "print(a >= b)  # True\n",
    "\n",
    "a = 5\n",
    "b = 5\n",
    "print(a >= b)  # True\n"
   ],
   "id": "63c5c23c3ac81a27",
   "outputs": [
    {
     "name": "stdout",
     "output_type": "stream",
     "text": [
      "False\n",
      "True\n",
      "True\n",
      "True\n",
      "True\n",
      "True\n",
      "True\n"
     ]
    }
   ],
   "execution_count": 11
  },
  {
   "metadata": {
    "ExecuteTime": {
     "end_time": "2025-10-16T19:38:22.347650Z",
     "start_time": "2025-10-16T19:38:22.344021Z"
    }
   },
   "cell_type": "code",
   "source": [
    "# Q11. Indicate whether the outputs of the following code snippets will be True or False when executed.\n",
    "a = 5\n",
    "b = 3\n",
    "print(a > b and b > 2)  #True\n",
    "\n",
    "a = 6\n",
    "b = 6\n",
    "print(a == b and a < 10)  # True\n",
    "\n",
    "a = 2\n",
    "b = 4\n",
    "print(a == b or a > b)  # False\n",
    "\n",
    "a = 2\n",
    "b = 4\n",
    "print(a != b or a > 8)  # True\n",
    "\n",
    "a = 9\n",
    "b = 7\n",
    "print(not (a > b))  # False\n",
    "\n",
    "a = 5\n",
    "b = 5\n",
    "print(not (a >= b and a < 1))  # True"
   ],
   "id": "c56791b510f806cb",
   "outputs": [
    {
     "name": "stdout",
     "output_type": "stream",
     "text": [
      "True\n",
      "True\n",
      "False\n",
      "True\n",
      "False\n",
      "True\n"
     ]
    }
   ],
   "execution_count": 12
  },
  {
   "metadata": {},
   "cell_type": "markdown",
   "source": "Q12. Explain the id() function.",
   "id": "66c57269ada14d52"
  },
  {
   "metadata": {},
   "cell_type": "markdown",
   "source": "A12. The id() function returns the identity of an object, which is a unique integer that is used to identify the object in memory.",
   "id": "8e2a1c14959b0394"
  },
  {
   "metadata": {
    "ExecuteTime": {
     "end_time": "2025-10-16T19:42:04.127662Z",
     "start_time": "2025-10-16T19:42:04.125423Z"
    }
   },
   "cell_type": "code",
   "source": [
    "# Q13. What output does the following code produce?\n",
    "a = 10\n",
    "b = 11\n",
    "c = 12\n",
    "print(a is c)  # False\n",
    "print(a is not b)  # True\n",
    "a += 1\n",
    "print(a is b)  # True\n",
    "a += 1\n",
    "print(a is c)  # True"
   ],
   "id": "607b81909e1f13f8",
   "outputs": [
    {
     "name": "stdout",
     "output_type": "stream",
     "text": [
      "False\n",
      "True\n",
      "True\n",
      "True\n"
     ]
    }
   ],
   "execution_count": 14
  },
  {
   "metadata": {},
   "cell_type": "markdown",
   "source": "# Practice Questions",
   "id": "cbd3cd537c521576"
  },
  {
   "metadata": {},
   "cell_type": "markdown",
   "source": "Q1. A student's math grades are 64, 86 and 70, respectively. Calculate the average of these grades.",
   "id": "d6a7a828f3c10fc7"
  },
  {
   "metadata": {
    "ExecuteTime": {
     "end_time": "2025-10-16T19:44:54.031815Z",
     "start_time": "2025-10-16T19:44:54.029594Z"
    }
   },
   "cell_type": "code",
   "source": [
    "#A1\n",
    "grade1 = 64\n",
    "grade2 = 86\n",
    "grade3 = 70\n",
    "average = (grade1 + grade2 + grade3) / 3\n",
    "print(\"The average of the grades is\",\n",
    "      average)"
   ],
   "id": "8e9b146accec8abe",
   "outputs": [
    {
     "name": "stdout",
     "output_type": "stream",
     "text": [
      "The average of the grades is 73.33333333333333\n"
     ]
    }
   ],
   "execution_count": 15
  },
  {
   "metadata": {},
   "cell_type": "markdown",
   "source": "Q2. Write a program that takes the user's name and age ane print their name as many times as their age.",
   "id": "5c84d288b6341dfe"
  },
  {
   "metadata": {
    "ExecuteTime": {
     "end_time": "2025-10-16T19:48:32.333563Z",
     "start_time": "2025-10-16T19:48:23.821986Z"
    }
   },
   "cell_type": "code",
   "source": [
    "# A2\n",
    "name = input(\"Please enter your name: \")\n",
    "age = int(input(\"Please enter your age: \"))\n",
    "print(f'{name} named user has {age} years old and will be printed {age} times.')\n",
    "for i in range(age):\n",
    "    print(name)\n"
   ],
   "id": "c837f966c5c8552f",
   "outputs": [
    {
     "name": "stdout",
     "output_type": "stream",
     "text": [
      "onur named user has 4 years old and will be printed 4 times.\n",
      "onur\n",
      "onur\n",
      "onur\n",
      "onur\n"
     ]
    }
   ],
   "execution_count": 16
  },
  {
   "metadata": {},
   "cell_type": "markdown",
   "source": "Q3. Write a program to calculate the area and circumference of a circle. Take the pi value and radius from the user.",
   "id": "ef1b0ebe10abbeba"
  },
  {
   "metadata": {
    "ExecuteTime": {
     "end_time": "2025-10-16T19:51:41.411254Z",
     "start_time": "2025-10-16T19:51:33.164870Z"
    }
   },
   "cell_type": "code",
   "source": [
    "# A3.\n",
    "pi = float(input('Please enter the pi value: '))\n",
    "radius = float(input('Please enter the radius value: '))\n",
    "\n",
    "square = pi * radius ** 2\n",
    "circumference = 2 * pi * radius\n",
    "\n",
    "print(f'The radius of the circle is {radius}')\n",
    "print(f'The area of the circle is {square}')\n",
    "print(f'The circumference of the circle is {circumference}')\n"
   ],
   "id": "2491576225b2c8e4",
   "outputs": [
    {
     "name": "stdout",
     "output_type": "stream",
     "text": [
      "The radius of the circle is 2.0\n",
      "The area of the circle is 12.56\n",
      "The circumference of the circle is 12.56\n"
     ]
    }
   ],
   "execution_count": 18
  },
  {
   "metadata": {},
   "cell_type": "markdown",
   "source": "Q4. Write a program that asks for the user's birth year and indicate their eligibility for a driver's license.",
   "id": "15f7f2156a41127f"
  },
  {
   "metadata": {
    "ExecuteTime": {
     "end_time": "2025-10-16T19:54:56.669017Z",
     "start_time": "2025-10-16T19:54:53.062948Z"
    }
   },
   "cell_type": "code",
   "source": [
    "# A4.\n",
    "birth_year = int(input('Please enter your birth year'))\n",
    "\n",
    "age = 2025 - birth_year\n",
    "\n",
    "print(f'Your age is {age}.')\n",
    "if age >= 18:\n",
    "    print(\"You are eligible for a driver's license.\")\n",
    "else:\n",
    "    print(\"You are not eligible for a driver's license.\")"
   ],
   "id": "8fa50a6534a1bc23",
   "outputs": [
    {
     "name": "stdout",
     "output_type": "stream",
     "text": [
      "Your age is 48\n",
      "You are eligible for a driver's license.\n"
     ]
    }
   ],
   "execution_count": 20
  },
  {
   "metadata": {},
   "cell_type": "markdown",
   "source": "Q5. Write a program that takes the interest rate and amount of money from the user and calculates the annual interest.",
   "id": "c8c338d9dbaa0c02"
  },
  {
   "metadata": {
    "ExecuteTime": {
     "end_time": "2025-10-16T19:59:14.243113Z",
     "start_time": "2025-10-16T19:59:03.772460Z"
    }
   },
   "cell_type": "code",
   "source": [
    "# A5.\n",
    "interest_rate = float(input('Please enter the interest rate (for example: 0.05 for 5%): '))\n",
    "amount = float(input('Please enter the amount of money: '))\n",
    "annual_interest = interest_rate * amount\n",
    "print(f'The annual interest is {annual_interest}')\n"
   ],
   "id": "a5d3065c419985d",
   "outputs": [
    {
     "name": "stdout",
     "output_type": "stream",
     "text": [
      "The annual interest is 50.0\n"
     ]
    }
   ],
   "execution_count": 21
  },
  {
   "metadata": {},
   "cell_type": "markdown",
   "source": "Q6. Write a program that calculates the user@s Body Mass Index (BMI) using data provided by the user.",
   "id": "61ca7297d2b4e0f1"
  },
  {
   "metadata": {
    "ExecuteTime": {
     "end_time": "2025-10-16T20:03:16.015417Z",
     "start_time": "2025-10-16T20:03:03.701763Z"
    }
   },
   "cell_type": "code",
   "source": [
    "# A6.\n",
    "height = float(input('Please enter your height (in meters): '))\n",
    "weight = float(input('Please enter your weight (in kilograms): '))\n",
    "bmi = weight / height ** 2\n",
    "print(f'The BMI is {bmi:.2f}')"
   ],
   "id": "bc2e1213d3bbe956",
   "outputs": [
    {
     "name": "stdout",
     "output_type": "stream",
     "text": [
      "The BMI is 29.80\n"
     ]
    }
   ],
   "execution_count": 24
  },
  {
   "metadata": {},
   "cell_type": "markdown",
   "source": "Q7. Write a program that checks if the user is your namesake.",
   "id": "ddfd85c81a11f372"
  },
  {
   "metadata": {
    "ExecuteTime": {
     "end_time": "2025-10-16T20:05:15.490436Z",
     "start_time": "2025-10-16T20:05:11.557213Z"
    }
   },
   "cell_type": "code",
   "source": [
    "# A7.\n",
    "name = input('Please enter your name: ')\n",
    "if name.lower() == 'onur':\n",
    "    print('You are my namesake.')\n",
    "else:\n",
    "    print('You are not my namesake.')"
   ],
   "id": "4d936d362a0c862e",
   "outputs": [
    {
     "name": "stdout",
     "output_type": "stream",
     "text": [
      "You are my namesake.\n"
     ]
    }
   ],
   "execution_count": 26
  },
  {
   "metadata": {},
   "cell_type": "markdown",
   "source": [
    "Q8. Write a program that takes the user's grade average and indicates whether they qualify for a certificate of\n",
    "appreciation or commendation."
   ],
   "id": "4f720f5da52ec479"
  },
  {
   "metadata": {
    "ExecuteTime": {
     "end_time": "2025-10-16T20:09:59.864739Z",
     "start_time": "2025-10-16T20:09:54.106782Z"
    }
   },
   "cell_type": "code",
   "source": [
    "# A8.\n",
    "grade = float(input('Please enter your grade average: '))\n",
    "\n",
    "print(f'Your grade average is {grade}.')\n",
    "if grade >= 100 or grade < 0:\n",
    "    print(\"Error: Grade must be between 0 and 100.\")\n",
    "elif grade >= 90:\n",
    "    print('You qualify for a certificate of commendation.')\n",
    "elif grade >= 80:\n",
    "    print('You qualify for a certificate of appreciation.')\n",
    "else:\n",
    "    print(\"I'm sorry but you do not qualify for a certificate.\")\n"
   ],
   "id": "a00b51afe880176e",
   "outputs": [
    {
     "name": "stdout",
     "output_type": "stream",
     "text": [
      "Your grade average is 80.0.\n",
      "You qualify for a certificate of appreciation.\n"
     ]
    }
   ],
   "execution_count": 27
  },
  {
   "metadata": {},
   "cell_type": "markdown",
   "source": [
    "Q9. Write a program that takes the highway distance and travel time from the user to calculate their speed, then\n",
    "indicates whether the user would receive a speeding ticket or not."
   ],
   "id": "4b833f9f76ec3fc4"
  },
  {
   "metadata": {
    "ExecuteTime": {
     "end_time": "2025-10-16T20:13:40.546946Z",
     "start_time": "2025-10-16T20:13:24.137497Z"
    }
   },
   "cell_type": "code",
   "source": [
    "# A9.\n",
    "distance = float(input('Please enter the highway distance (km): '))\n",
    "time = float(input('Please enter the travel time (h): '))\n",
    "\n",
    "speed = distance / time\n",
    "\n",
    "print(f'The speed is {speed:.2f}.')\n",
    "\n",
    "if speed > 130:\n",
    "    print('You would receive a speeding ticket.')\n",
    "else:\n",
    "    print('You would not receive a speeding ticket.')\n"
   ],
   "id": "31300e07cff4cc1",
   "outputs": [
    {
     "name": "stdout",
     "output_type": "stream",
     "text": [
      "The speed is 333.33.\n",
      "You would receive a speeding ticket.\n"
     ]
    }
   ],
   "execution_count": 28
  },
  {
   "metadata": {},
   "cell_type": "markdown",
   "source": [
    "Q10. Write a program that takes the number of working days from the user and calculates the total wage for a worker\n",
    "with a daily wage of 350 TL."
   ],
   "id": "a2fad05115c52d80"
  },
  {
   "metadata": {
    "ExecuteTime": {
     "end_time": "2025-10-16T20:18:59.080804Z",
     "start_time": "2025-10-16T20:18:56.346766Z"
    }
   },
   "cell_type": "code",
   "source": [
    "# A10.\n",
    "daily_wage = 350\n",
    "working_days = int(input('Please enter the number of working days: '))\n",
    "total_wage = working_days * daily_wage\n",
    "\n",
    "print(f\"After working for {working_days} days, the total wage is {total_wage} TL.\")\n"
   ],
   "id": "e5dbeb9abea2de51",
   "outputs": [
    {
     "name": "stdout",
     "output_type": "stream",
     "text": [
      "After working for 10 days, the total wage is 3500 TL.\n"
     ]
    }
   ],
   "execution_count": 33
  }
 ],
 "metadata": {
  "kernelspec": {
   "display_name": "Python 3",
   "language": "python",
   "name": "python3"
  },
  "language_info": {
   "codemirror_mode": {
    "name": "ipython",
    "version": 2
   },
   "file_extension": ".py",
   "mimetype": "text/x-python",
   "name": "python",
   "nbconvert_exporter": "python",
   "pygments_lexer": "ipython2",
   "version": "2.7.6"
  }
 },
 "nbformat": 4,
 "nbformat_minor": 5
}
